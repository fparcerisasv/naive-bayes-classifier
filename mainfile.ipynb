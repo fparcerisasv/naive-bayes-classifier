{
 "cells": [
  {
   "cell_type": "markdown",
   "metadata": {},
   "source": [
    "# Naive Bayes i Classificació\n"
   ]
  },
  {
   "cell_type": "markdown",
   "metadata": {},
   "source": [
    "En aquest tercer lliurament es programarà un classificador, que donada una *piulada*, la categoritzarà en una de les possibles classes. En aquesta ocasió, implementareu un classificador amb *piulades* relacionades amb el *cyber bullying*.\n",
    "\n",
    "Recordeu que l'objectiu principal d'aquesta pràctica és desenvolupar un classificador amb una *accuracy* alta. \n",
    "\n",
    "\n",
    "**Què s’ha de fer?**\n",
    "\n",
    "Volem classificar *piulades* segons a quin tipus de *cyber bullying* pertanyen. Així doncs, a partir de tots les *piulades* que tenim, crearem un vector de característiques que ens descrigui cadascuna. A continuació desenvoluparem un classificador probabilístic del tipus **Naive Bayes** que ens permeti identificar a quina classe de *cyber bullying* pertany una *piulada* donada, segons les característiques disenyades.\n",
    "\n",
    "\n",
    "**Quina és la idea del sistema de classificació que s’ha de desenvolupar?**\n",
    "\n",
    "El classificador és un concepte de l'aprenentatge automàtic supervisat. L'objectiu del classificador és donat un vector de característiques que descriuen els objectes que es volen classificar indicar a quina categoria o classe pertanyen d'entre un conjunt predeterminat. \n",
    "\n",
    "El procés de classificació consta de dues parts: \n",
    "\n",
    "+ el procés d'aprenentatge i \n",
    "+ el procés d'explotació o testeig. \n",
    "\n",
    "El procés d'aprenentatge rep exemples de parelles $(x,y)$ on $x$ són les característiques, usualment representades per nombres reals, i $y$ és la categoria a la que pertanyen. \n",
    "Aquest conjunt se'l coneix com a conjunt d'entrenament i ens servirà per trobar una funció $\\hat{y}=f(x)$ que donada una $x$ aconsegueixi que $\\hat{y}$ sigui semblant $y$. \n",
    "\n",
    "Per altra banda el procés de testeig aplica la funció $f(x)$ apresa a l'entrenament a a dades no presents en el conjunt d'aprenentatge per avaluar el classificador.\n",
    "\n",
    "**Classificació i llenguatge natural**\n",
    "\n",
    "La descripció dels exemples en característiques és el punt més crític de tot sistema d'aprenentatge automàtic. \n",
    "Una de les representacions més simples per tal de descriure un text és la representació [\"bag-of-words\"](https://en.wikipedia.org/wiki/Bag-of-words_model).\n",
    "\n",
    "Aquesta representació converteix un text en un vector de $N$ paraules. \n",
    "Primer haurem de seleccionar el conjunt d'$N$ paraules que volem fer servir. Després, per cada paraula comptar quants cops apareix en el text. \n",
    "\n",
    "Una versió alternativa i més simple d'aquest procés pot ser simplement indicar al vector si una determinada paraula apareix o no en el text."
   ]
  },
  {
   "cell_type": "markdown",
   "metadata": {},
   "source": [
    "## Abans de començar\n",
    "\n",
    "\n",
    "**\\+ Durant la pràctica, solament es podran fer servir les següents llibreries**:\n",
    "\n",
    "`Pandas, Numpy, Re` i `NLTK`\n",
    "\n",
    "Python té un paquet integrat anomenat [\"re\"](https://www.w3schools.com/python/python_regex.asp), que es pot utilitzar per treballar amb expressions regulars. És molt aconsellable fer servir aquest paquet per processar les paraules.\n",
    "\n",
    "**\\+ No es poden modificar les definicions de les funcions donades, ni canviar els noms de les variables i paràmetres ja donats**\n",
    "\n",
    "Això no implica però que els hàgiu de fer servir. És a dir, que la funció tingui un paràmetre anomenat `df` no implica que l'hàgiu de fer servir, si no ho trobeu convenient.\n",
    "\n",
    "**\\+ En les funcions, s'especifica que serà i de quin tipus cada un dels paràmetres, cal respectar-ho**\n",
    "\n",
    "Per exemple (ho posarà en el pydoc de la funció), `df` sempre serà indicatiu del `Pandas.DataFrame` de les dades. Durant els testos, els paràmetres (i específicament `df`) no contindran les mateixes dades que en aquest notebook, si bé si seran del mateix tipus! Per tant, no us refieu de què tinguin, per exemple, el mateix nombre de files."
   ]
  },
  {
   "cell_type": "markdown",
   "metadata": {},
   "source": [
    "## Les dades\n",
    "\n",
    "El 15 d'Abril de 2020, UNICEF va llançar una alarma com a resposta de l'augment de risc de *cyber bullying* durant la pandèmia COVID-19. \n",
    "\n",
    "Les estadístiques són prou alarmants: un 36.5% dels estudiants de l'escola fins a l'institut s'han sentit víctimes del *cyber bullying* i un 87% n'han estat testimonis, amb efectes que van des d'una disminució de resultats acadèmics fins a pensaments suïcides.\n",
    "\n",
    "Amb l'objectiu d'ajudar a l'analisis de la situació, s'ha construit un dataset que conté més de 47000 *piulades* etiquetades d'acord amb la classe de *cyber bullying* que s'està donant:\n",
    "\n",
    "1. `age`;\n",
    "2. `ethnicity`;\n",
    "3. `gender`;\n",
    "4. `religion`;\n",
    "5. `other type of cyberbullying`;\n",
    "6. `not cyberbullying`\n",
    "\n",
    "Les dades han estat balancejades per tal de contenir aproximadament 8000 mostres de cada classe."
   ]
  },
  {
   "cell_type": "markdown",
   "metadata": {},
   "source": [
    "# Preparar les dades"
   ]
  },
  {
   "cell_type": "markdown",
   "metadata": {},
   "source": [
    "## Lectura de les dades"
   ]
  },
  {
   "cell_type": "code",
   "execution_count": 446,
   "metadata": {},
   "outputs": [],
   "source": [
    "%%capture\n",
    "! pip install pandas\n",
    "! pip install numpy\n",
    "! pip install matplotlib\n",
    "! pip install re\n",
    "! pip install nltk"
   ]
  },
  {
   "cell_type": "code",
   "execution_count": 447,
   "metadata": {
    "tags": []
   },
   "outputs": [],
   "source": [
    "import pandas as pd\n",
    "import numpy as np\n",
    "import re"
   ]
  },
  {
   "cell_type": "code",
   "execution_count": 448,
   "metadata": {
    "tags": []
   },
   "outputs": [
    {
     "data": {
      "text/html": [
       "<div>\n",
       "<style scoped>\n",
       "    .dataframe tbody tr th:only-of-type {\n",
       "        vertical-align: middle;\n",
       "    }\n",
       "\n",
       "    .dataframe tbody tr th {\n",
       "        vertical-align: top;\n",
       "    }\n",
       "\n",
       "    .dataframe thead th {\n",
       "        text-align: right;\n",
       "    }\n",
       "</style>\n",
       "<table border=\"1\" class=\"dataframe\">\n",
       "  <thead>\n",
       "    <tr style=\"text-align: right;\">\n",
       "      <th></th>\n",
       "      <th>tweet_text</th>\n",
       "      <th>cyberbullying_type</th>\n",
       "    </tr>\n",
       "  </thead>\n",
       "  <tbody>\n",
       "    <tr>\n",
       "      <th>0</th>\n",
       "      <td>In other words #katandandre, your food was cra...</td>\n",
       "      <td>not_cyberbullying</td>\n",
       "    </tr>\n",
       "    <tr>\n",
       "      <th>1</th>\n",
       "      <td>Why is #aussietv so white? #MKR #theblock #ImA...</td>\n",
       "      <td>not_cyberbullying</td>\n",
       "    </tr>\n",
       "    <tr>\n",
       "      <th>2</th>\n",
       "      <td>@XochitlSuckkks a classy whore? Or more red ve...</td>\n",
       "      <td>not_cyberbullying</td>\n",
       "    </tr>\n",
       "    <tr>\n",
       "      <th>3</th>\n",
       "      <td>@Jason_Gio meh. :P  thanks for the heads up, b...</td>\n",
       "      <td>not_cyberbullying</td>\n",
       "    </tr>\n",
       "    <tr>\n",
       "      <th>4</th>\n",
       "      <td>@RudhoeEnglish This is an ISIS account pretend...</td>\n",
       "      <td>not_cyberbullying</td>\n",
       "    </tr>\n",
       "    <tr>\n",
       "      <th>...</th>\n",
       "      <td>...</td>\n",
       "      <td>...</td>\n",
       "    </tr>\n",
       "    <tr>\n",
       "      <th>47687</th>\n",
       "      <td>Black ppl aren't expected to do anything, depe...</td>\n",
       "      <td>ethnicity</td>\n",
       "    </tr>\n",
       "    <tr>\n",
       "      <th>47688</th>\n",
       "      <td>Turner did not withhold his disappointment. Tu...</td>\n",
       "      <td>ethnicity</td>\n",
       "    </tr>\n",
       "    <tr>\n",
       "      <th>47689</th>\n",
       "      <td>I swear to God. This dumb nigger bitch. I have...</td>\n",
       "      <td>ethnicity</td>\n",
       "    </tr>\n",
       "    <tr>\n",
       "      <th>47690</th>\n",
       "      <td>Yea fuck you RT @therealexel: IF YOURE A NIGGE...</td>\n",
       "      <td>ethnicity</td>\n",
       "    </tr>\n",
       "    <tr>\n",
       "      <th>47691</th>\n",
       "      <td>Bro. U gotta chill RT @CHILLShrammy: Dog FUCK ...</td>\n",
       "      <td>ethnicity</td>\n",
       "    </tr>\n",
       "  </tbody>\n",
       "</table>\n",
       "<p>47692 rows × 2 columns</p>\n",
       "</div>"
      ],
      "text/plain": [
       "                                              tweet_text cyberbullying_type\n",
       "0      In other words #katandandre, your food was cra...  not_cyberbullying\n",
       "1      Why is #aussietv so white? #MKR #theblock #ImA...  not_cyberbullying\n",
       "2      @XochitlSuckkks a classy whore? Or more red ve...  not_cyberbullying\n",
       "3      @Jason_Gio meh. :P  thanks for the heads up, b...  not_cyberbullying\n",
       "4      @RudhoeEnglish This is an ISIS account pretend...  not_cyberbullying\n",
       "...                                                  ...                ...\n",
       "47687  Black ppl aren't expected to do anything, depe...          ethnicity\n",
       "47688  Turner did not withhold his disappointment. Tu...          ethnicity\n",
       "47689  I swear to God. This dumb nigger bitch. I have...          ethnicity\n",
       "47690  Yea fuck you RT @therealexel: IF YOURE A NIGGE...          ethnicity\n",
       "47691  Bro. U gotta chill RT @CHILLShrammy: Dog FUCK ...          ethnicity\n",
       "\n",
       "[47692 rows x 2 columns]"
      ]
     },
     "execution_count": 448,
     "metadata": {},
     "output_type": "execute_result"
    }
   ],
   "source": [
    "df = pd.read_csv('data/cyberbullying_tweets.csv')\n",
    "df"
   ]
  },
  {
   "cell_type": "code",
   "execution_count": 449,
   "metadata": {},
   "outputs": [
    {
     "data": {
      "text/plain": [
       "cyberbullying_type\n",
       "religion               7998\n",
       "age                    7992\n",
       "gender                 7973\n",
       "ethnicity              7961\n",
       "not_cyberbullying      7945\n",
       "other_cyberbullying    7823\n",
       "Name: count, dtype: int64"
      ]
     },
     "execution_count": 449,
     "metadata": {},
     "output_type": "execute_result"
    }
   ],
   "source": [
    "df['cyberbullying_type'].value_counts()"
   ]
  },
  {
   "cell_type": "markdown",
   "metadata": {},
   "source": [
    "## Preparació del dataset\n",
    "\n",
    "Dividim les *piulades* en un conjunt d'entrenament, *train*, i en un conjunt de validació, *test*, per tal de poder entrenar i validar el nostre model de classificació."
   ]
  },
  {
   "cell_type": "code",
   "execution_count": 450,
   "metadata": {},
   "outputs": [],
   "source": [
    "from sklearn.model_selection import train_test_split\n",
    "\n",
    "df_tweets_train, df_tweets_test = train_test_split(df, test_size=0.2)"
   ]
  },
  {
   "cell_type": "markdown",
   "metadata": {},
   "source": [
    "Com les dades estaven balancejades originalment, podem observar que la distribució de cadascuna de les classes es manté:"
   ]
  },
  {
   "cell_type": "code",
   "execution_count": 451,
   "metadata": {},
   "outputs": [
    {
     "data": {
      "text/plain": [
       "cyberbullying_type\n",
       "religion               6417\n",
       "gender                 6395\n",
       "not_cyberbullying      6368\n",
       "ethnicity              6359\n",
       "age                    6358\n",
       "other_cyberbullying    6256\n",
       "Name: count, dtype: int64"
      ]
     },
     "execution_count": 451,
     "metadata": {},
     "output_type": "execute_result"
    }
   ],
   "source": [
    "df_tweets_train['cyberbullying_type'].value_counts()"
   ]
  },
  {
   "cell_type": "code",
   "execution_count": 452,
   "metadata": {},
   "outputs": [
    {
     "data": {
      "text/plain": [
       "cyberbullying_type\n",
       "age                    1634\n",
       "ethnicity              1602\n",
       "religion               1581\n",
       "gender                 1578\n",
       "not_cyberbullying      1577\n",
       "other_cyberbullying    1567\n",
       "Name: count, dtype: int64"
      ]
     },
     "execution_count": 452,
     "metadata": {},
     "output_type": "execute_result"
    }
   ],
   "source": [
    "df_tweets_test['cyberbullying_type'].value_counts()"
   ]
  },
  {
   "cell_type": "markdown",
   "metadata": {},
   "source": [
    "# Implementació\n",
    "\n",
    "Dividirem el notebook en 3 seccions que es complementen una a l'altra:\n",
    "\n",
    "1. Anàlisi exploratòria de les dades: Informació bàsica sobre les *piulades*.\n",
    "2. Processament de les dades: Creació d'un vector de característiques a partir de les *piulades*.\n",
    "3. Desenvolupament d'un classificador *Naive Bayes*. "
   ]
  },
  {
   "cell_type": "markdown",
   "metadata": {},
   "source": [
    "### 1. Anàlisis de dades\n",
    "\n",
    "El primer que haurem de fer és analitzar les dades per veure una mica com són. El que us proposem és fer una sèrie de visualitzacions per observar les dades, com ara:\n",
    "\n",
    "* el nombre de *piulades* que s'estan dirigint a una persona en concret\n",
    "* el nombre de  *hashtags* que hi ha a cada categoria de *piulades*\n",
    "* el nombre de  *piulades* que hi ha de cada categoria de *piulades*\n",
    "* el nombre de  *piulades* de la categoria `not_cyberbullying` que es dirigeixen a un usuari vs totes les altres categories\n",
    "* altres coses que penseu que poden ser rellevants."
   ]
  },
  {
   "cell_type": "code",
   "execution_count": 453,
   "metadata": {},
   "outputs": [],
   "source": [
    "import matplotlib.pyplot as plt\n",
    "%matplotlib inline"
   ]
  },
  {
   "cell_type": "code",
   "execution_count": 454,
   "metadata": {
    "tags": []
   },
   "outputs": [
    {
     "data": {
      "text/html": [
       "<div>\n",
       "<style scoped>\n",
       "    .dataframe tbody tr th:only-of-type {\n",
       "        vertical-align: middle;\n",
       "    }\n",
       "\n",
       "    .dataframe tbody tr th {\n",
       "        vertical-align: top;\n",
       "    }\n",
       "\n",
       "    .dataframe thead th {\n",
       "        text-align: right;\n",
       "    }\n",
       "</style>\n",
       "<table border=\"1\" class=\"dataframe\">\n",
       "  <thead>\n",
       "    <tr style=\"text-align: right;\">\n",
       "      <th></th>\n",
       "      <th>tweet_text</th>\n",
       "      <th>cyberbullying_type</th>\n",
       "    </tr>\n",
       "  </thead>\n",
       "  <tbody>\n",
       "    <tr>\n",
       "      <th>25102</th>\n",
       "      <td>oh my god. oh my god. rogue tried to explain t...</td>\n",
       "      <td>other_cyberbullying</td>\n",
       "    </tr>\n",
       "    <tr>\n",
       "      <th>38855</th>\n",
       "      <td>It’s 2020 and private school kids still bully?...</td>\n",
       "      <td>age</td>\n",
       "    </tr>\n",
       "    <tr>\n",
       "      <th>18909</th>\n",
       "      <td>Terrorists r enemies of Humanity &amp;amp; enemies...</td>\n",
       "      <td>religion</td>\n",
       "    </tr>\n",
       "    <tr>\n",
       "      <th>21702</th>\n",
       "      <td>I am a Conservative christian woman who has be...</td>\n",
       "      <td>religion</td>\n",
       "    </tr>\n",
       "    <tr>\n",
       "      <th>27834</th>\n",
       "      <td>@ctayyy that's so fucking annoying smh. I wish...</td>\n",
       "      <td>other_cyberbullying</td>\n",
       "    </tr>\n",
       "  </tbody>\n",
       "</table>\n",
       "</div>"
      ],
      "text/plain": [
       "                                              tweet_text   cyberbullying_type\n",
       "25102  oh my god. oh my god. rogue tried to explain t...  other_cyberbullying\n",
       "38855  It’s 2020 and private school kids still bully?...                  age\n",
       "18909  Terrorists r enemies of Humanity &amp; enemies...             religion\n",
       "21702  I am a Conservative christian woman who has be...             religion\n",
       "27834  @ctayyy that's so fucking annoying smh. I wish...  other_cyberbullying"
      ]
     },
     "execution_count": 454,
     "metadata": {},
     "output_type": "execute_result"
    }
   ],
   "source": [
    "df_tweets_train.head()"
   ]
  },
  {
   "cell_type": "markdown",
   "metadata": {},
   "source": [
    "#### **EXERCICI 1:** \n",
    "\n",
    "* Quantes *piulades* estan dirigides a un usuari concret? Diem que una piulada va dirigida a una persona en concret si contenen el patró ``@usuari``. \n",
    "\n",
    "[Restriccions](https://help.twitter.com/en/managing-your-account/change-twitter-handle) que imposa X sobre el patró:\n",
    "+ Nomes són valids aquells patrons amb caràcters alfanumèrics ``[A-z 0-9]`` i el caràcter ``_``\n",
    "+ Els patrons han de començar per ``@`` i han de tenir més de 4 i menys de 16 caràcters.\n",
    "\n",
    "En aquest exercici és extremadament útil l'ús del mòdul ``re``."
   ]
  },
  {
   "cell_type": "code",
   "execution_count": 455,
   "metadata": {},
   "outputs": [
    {
     "data": {
      "text/html": [
       "<div>\n",
       "<style scoped>\n",
       "    .dataframe tbody tr th:only-of-type {\n",
       "        vertical-align: middle;\n",
       "    }\n",
       "\n",
       "    .dataframe tbody tr th {\n",
       "        vertical-align: top;\n",
       "    }\n",
       "\n",
       "    .dataframe thead th {\n",
       "        text-align: right;\n",
       "    }\n",
       "</style>\n",
       "<table border=\"1\" class=\"dataframe\">\n",
       "  <thead>\n",
       "    <tr style=\"text-align: right;\">\n",
       "      <th></th>\n",
       "      <th>tweet_text</th>\n",
       "      <th>cyberbullying_type</th>\n",
       "      <th>mentions</th>\n",
       "    </tr>\n",
       "  </thead>\n",
       "  <tbody>\n",
       "    <tr>\n",
       "      <th>22067</th>\n",
       "      <td>@007AliSohrab Mr.Kakawani sorry to say that to...</td>\n",
       "      <td>religion</td>\n",
       "      <td>[@007AliSohrab]</td>\n",
       "    </tr>\n",
       "    <tr>\n",
       "      <th>6131</th>\n",
       "      <td>@007luis aonde ?? eu sofro bullying naquele curso</td>\n",
       "      <td>not_cyberbullying</td>\n",
       "      <td>[@007luis]</td>\n",
       "    </tr>\n",
       "    <tr>\n",
       "      <th>11390</th>\n",
       "      <td>10-year-olds can't even get their license! @00...</td>\n",
       "      <td>gender</td>\n",
       "      <td>[@00SimmerforLife]</td>\n",
       "    </tr>\n",
       "    <tr>\n",
       "      <th>1298</th>\n",
       "      <td>@06JAnk @PatrickOsgood Erdogan is behind Turki...</td>\n",
       "      <td>not_cyberbullying</td>\n",
       "      <td>[@06JAnk, @PatrickOsgood]</td>\n",
       "    </tr>\n",
       "    <tr>\n",
       "      <th>11079</th>\n",
       "      <td>SO CLEVER PULITZER TWEET @0cclus I think women...</td>\n",
       "      <td>gender</td>\n",
       "      <td>[@0cclus]</td>\n",
       "    </tr>\n",
       "    <tr>\n",
       "      <th>7883</th>\n",
       "      <td>@0mgTaylor it's been stuck in my head lol</td>\n",
       "      <td>not_cyberbullying</td>\n",
       "      <td>[@0mgTaylor]</td>\n",
       "    </tr>\n",
       "    <tr>\n",
       "      <th>27510</th>\n",
       "      <td>RT @0xabad1dea: http://t.co/XTgw1hmrN1 is a ve...</td>\n",
       "      <td>other_cyberbullying</td>\n",
       "      <td>[@0xabad1dea]</td>\n",
       "    </tr>\n",
       "    <tr>\n",
       "      <th>1555</th>\n",
       "      <td>@0xabad1dea i was lucky enough to find mine on...</td>\n",
       "      <td>not_cyberbullying</td>\n",
       "      <td>[@0xabad1dea]</td>\n",
       "    </tr>\n",
       "    <tr>\n",
       "      <th>28959</th>\n",
       "      <td>@0xabad1dea but amazon is generally a terrible...</td>\n",
       "      <td>other_cyberbullying</td>\n",
       "      <td>[@0xabad1dea]</td>\n",
       "    </tr>\n",
       "    <tr>\n",
       "      <th>25074</th>\n",
       "      <td>@0xabad1dea the video that autoplayed after yo...</td>\n",
       "      <td>other_cyberbullying</td>\n",
       "      <td>[@0xabad1dea]</td>\n",
       "    </tr>\n",
       "    <tr>\n",
       "      <th>27040</th>\n",
       "      <td>@0xabad1dea wat?</td>\n",
       "      <td>other_cyberbullying</td>\n",
       "      <td>[@0xabad1dea]</td>\n",
       "    </tr>\n",
       "    <tr>\n",
       "      <th>9618</th>\n",
       "      <td>RT @0xabad1dea: Certain threads:</td>\n",
       "      <td>gender</td>\n",
       "      <td>[@0xabad1dea]</td>\n",
       "    </tr>\n",
       "    <tr>\n",
       "      <th>830</th>\n",
       "      <td>@0xabad1dea unless you are the help desk perso...</td>\n",
       "      <td>not_cyberbullying</td>\n",
       "      <td>[@0xabad1dea]</td>\n",
       "    </tr>\n",
       "    <tr>\n",
       "      <th>3366</th>\n",
       "      <td>@0xabad1dea wat?</td>\n",
       "      <td>not_cyberbullying</td>\n",
       "      <td>[@0xabad1dea]</td>\n",
       "    </tr>\n",
       "    <tr>\n",
       "      <th>24837</th>\n",
       "      <td>@0xabad1dea BM is getting closer with their ne...</td>\n",
       "      <td>other_cyberbullying</td>\n",
       "      <td>[@0xabad1dea]</td>\n",
       "    </tr>\n",
       "  </tbody>\n",
       "</table>\n",
       "</div>"
      ],
      "text/plain": [
       "                                              tweet_text   cyberbullying_type  \\\n",
       "22067  @007AliSohrab Mr.Kakawani sorry to say that to...             religion   \n",
       "6131   @007luis aonde ?? eu sofro bullying naquele curso    not_cyberbullying   \n",
       "11390  10-year-olds can't even get their license! @00...               gender   \n",
       "1298   @06JAnk @PatrickOsgood Erdogan is behind Turki...    not_cyberbullying   \n",
       "11079  SO CLEVER PULITZER TWEET @0cclus I think women...               gender   \n",
       "7883           @0mgTaylor it's been stuck in my head lol    not_cyberbullying   \n",
       "27510  RT @0xabad1dea: http://t.co/XTgw1hmrN1 is a ve...  other_cyberbullying   \n",
       "1555   @0xabad1dea i was lucky enough to find mine on...    not_cyberbullying   \n",
       "28959  @0xabad1dea but amazon is generally a terrible...  other_cyberbullying   \n",
       "25074  @0xabad1dea the video that autoplayed after yo...  other_cyberbullying   \n",
       "27040                                   @0xabad1dea wat?  other_cyberbullying   \n",
       "9618                    RT @0xabad1dea: Certain threads:               gender   \n",
       "830    @0xabad1dea unless you are the help desk perso...    not_cyberbullying   \n",
       "3366                                    @0xabad1dea wat?    not_cyberbullying   \n",
       "24837  @0xabad1dea BM is getting closer with their ne...  other_cyberbullying   \n",
       "\n",
       "                        mentions  \n",
       "22067            [@007AliSohrab]  \n",
       "6131                  [@007luis]  \n",
       "11390         [@00SimmerforLife]  \n",
       "1298   [@06JAnk, @PatrickOsgood]  \n",
       "11079                  [@0cclus]  \n",
       "7883                [@0mgTaylor]  \n",
       "27510              [@0xabad1dea]  \n",
       "1555               [@0xabad1dea]  \n",
       "28959              [@0xabad1dea]  \n",
       "25074              [@0xabad1dea]  \n",
       "27040              [@0xabad1dea]  \n",
       "9618               [@0xabad1dea]  \n",
       "830                [@0xabad1dea]  \n",
       "3366               [@0xabad1dea]  \n",
       "24837              [@0xabad1dea]  "
      ]
     },
     "execution_count": 455,
     "metadata": {},
     "output_type": "execute_result"
    }
   ],
   "source": [
    "# El vostre codi aquí\n",
    "usr_pattern = r'@[\\w_]{5,15}' # @ seguit de 5 a 15 caràcters alfanumèrics o _\n",
    "df_tweets_train['mentions'] = df_tweets_train['tweet_text'].apply(lambda x: re.findall(usr_pattern, str(x)))# troba totes les coincidències\n",
    "df_tweets_train['mentions'] = df_tweets_train['mentions'].apply(lambda x: x if x else np.nan) # si no hi ha cap coincidència, posa NA\n",
    "\n",
    "df_tweets_train.sort_values(by='mentions',na_position='last').head(15) #mostrem els que tenen mencions primer"
   ]
  },
  {
   "cell_type": "markdown",
   "metadata": {},
   "source": [
    "+ Quants *hashtags* ``#`` hi ha a cada categoria de *piulades*?\n",
    "\n",
    "Compteu els ``#`` que vagin seguits d'alguna lletra o nombre ja que, com veiem a la [normativa](https://help.twitter.com/en/using-twitter/how-to-use-hashtags) de X, els ``#`` no poden contenir cap mena de signe de puntuació."
   ]
  },
  {
   "cell_type": "code",
   "execution_count": 456,
   "metadata": {},
   "outputs": [
    {
     "data": {
      "text/html": [
       "<div>\n",
       "<style scoped>\n",
       "    .dataframe tbody tr th:only-of-type {\n",
       "        vertical-align: middle;\n",
       "    }\n",
       "\n",
       "    .dataframe tbody tr th {\n",
       "        vertical-align: top;\n",
       "    }\n",
       "\n",
       "    .dataframe thead th {\n",
       "        text-align: right;\n",
       "    }\n",
       "</style>\n",
       "<table border=\"1\" class=\"dataframe\">\n",
       "  <thead>\n",
       "    <tr style=\"text-align: right;\">\n",
       "      <th></th>\n",
       "      <th>cyberbullying_type</th>\n",
       "      <th>n_hashtags</th>\n",
       "    </tr>\n",
       "  </thead>\n",
       "  <tbody>\n",
       "    <tr>\n",
       "      <th>0</th>\n",
       "      <td>age</td>\n",
       "      <td>579</td>\n",
       "    </tr>\n",
       "    <tr>\n",
       "      <th>1</th>\n",
       "      <td>ethnicity</td>\n",
       "      <td>887</td>\n",
       "    </tr>\n",
       "    <tr>\n",
       "      <th>2</th>\n",
       "      <td>gender</td>\n",
       "      <td>2138</td>\n",
       "    </tr>\n",
       "    <tr>\n",
       "      <th>3</th>\n",
       "      <td>not_cyberbullying</td>\n",
       "      <td>2612</td>\n",
       "    </tr>\n",
       "    <tr>\n",
       "      <th>4</th>\n",
       "      <td>other_cyberbullying</td>\n",
       "      <td>1301</td>\n",
       "    </tr>\n",
       "    <tr>\n",
       "      <th>5</th>\n",
       "      <td>religion</td>\n",
       "      <td>1391</td>\n",
       "    </tr>\n",
       "  </tbody>\n",
       "</table>\n",
       "</div>"
      ],
      "text/plain": [
       "    cyberbullying_type  n_hashtags\n",
       "0                  age         579\n",
       "1            ethnicity         887\n",
       "2               gender        2138\n",
       "3    not_cyberbullying        2612\n",
       "4  other_cyberbullying        1301\n",
       "5             religion        1391"
      ]
     },
     "execution_count": 456,
     "metadata": {},
     "output_type": "execute_result"
    }
   ],
   "source": [
    "# El vostre codi aquí\n",
    "hashtag_pattern = r'#[\\w]+' # # seguit d'un caràcter alfanumèric\n",
    "df_tweets_train['hashtags'] = df_tweets_train['tweet_text'].apply(lambda x: re.findall(hashtag_pattern, str(x)))# troba totes les coincidències\n",
    "df_tweets_train['n_hashtags'] = df_tweets_train['hashtags'].apply(lambda x: len(x)) # compta el nombre de hashtags\n",
    "hashtags_per_type = df_tweets_train.groupby('cyberbullying_type')['n_hashtags'].sum() # agrupa per tipus i calcula el total de hashtags per tipus\n",
    "hashtags_per_type = pd.DataFrame(hashtags_per_type).reset_index() # converteix a dataframe i reinicia l'index\n",
    "hashtags_per_type"
   ]
  },
  {
   "cell_type": "markdown",
   "metadata": {},
   "source": [
    "+ Fes un histograma que representi aquesta distribució?"
   ]
  },
  {
   "cell_type": "code",
   "execution_count": 457,
   "metadata": {},
   "outputs": [
    {
     "data": {
      "image/png": "[encoded data removed]",
      "text/plain": [
       "<Figure size 1000x500 with 1 Axes>"
      ]
     },
     "metadata": {},
     "output_type": "display_data"
    }
   ],
   "source": [
    "# El vostre codi aquí\n",
    "import matplotlib.ticker as mticker\n",
    "fig,ax = plt.subplots(figsize=(10,5))\n",
    "ax.bar(hashtags_per_type['cyberbullying_type'], hashtags_per_type['n_hashtags'])\n",
    "ax.set_ylabel('Nombre de hashtags')\n",
    "ax.set_xlabel('Tipus de cyberbullying')\n",
    "ax.xaxis.set_major_locator(mticker.FixedLocator(np.arange(len(hashtags_per_type['cyberbullying_type'])))) # fixa els ticks a l'eix x\n",
    "ax.set_xticklabels(hashtags_per_type['cyberbullying_type'], rotation=25, ha='right',fontsize=8)\n",
    "\n",
    "ax.set_title('Nombre de hashtags per tipus de cyberbullying', fontsize=15, fontweight='bold')\n",
    "plt.show()\n"
   ]
  },
  {
   "cell_type": "markdown",
   "metadata": {},
   "source": [
    "+ Comproveu a continuació quantes vegades hi ha un ús invàlid dels ``#``, per exemple ``##`` o ``#@``, on, si no tinguessim en compte la restriccio imposada, hauriem contat 2 ``#`` a ``##`` o 1 ``#`` a ``#@``, quan en realitat son 1 i 0 respectivament."
   ]
  },
  {
   "cell_type": "code",
   "execution_count": 458,
   "metadata": {},
   "outputs": [
    {
     "data": {
      "text/plain": [
       "37"
      ]
     },
     "execution_count": 458,
     "metadata": {},
     "output_type": "execute_result"
    }
   ],
   "source": [
    "# El vostre codi aquí\n",
    "\n",
    "invalid_hashtag_pattern = r'#([^\\w\\s]|#|@)' # ús incorrecte del hashtag\n",
    "\n",
    "total_invalid_hashtags = df_tweets_train['tweet_text'].str.count(invalid_hashtag_pattern).sum() # suma el nombre de tweets que contenen el patró\n",
    "total_invalid_hashtags"
   ]
  },
  {
   "cell_type": "markdown",
   "metadata": {},
   "source": [
    "+ Quantes *piulades* vàlides hi ha de cada categoria?"
   ]
  },
  {
   "cell_type": "code",
   "execution_count": 459,
   "metadata": {},
   "outputs": [
    {
     "data": {
      "text/plain": [
       "cyberbullying_type\n",
       "religion               6417\n",
       "gender                 6395\n",
       "not_cyberbullying      6368\n",
       "ethnicity              6359\n",
       "age                    6358\n",
       "other_cyberbullying    6256\n",
       "Name: count, dtype: int64"
      ]
     },
     "execution_count": 459,
     "metadata": {},
     "output_type": "execute_result"
    }
   ],
   "source": [
    "# El vostre codi aquí\n",
    "valid_tweets = df_tweets_train.drop(df_tweets_train[df_tweets_train['tweet_text'].str.match(invalid_hashtag_pattern)].index) # elimina els tweets que contenen el patró\n",
    "valid_tweets['cyberbullying_type'].value_counts()\n"
   ]
  },
  {
   "cell_type": "markdown",
   "metadata": {},
   "source": [
    "+ Quantes *piulades* de la categoria `not_cyberbullying` és dirigeixen a un usuari?\n",
    "+ Quantes *piulades* de totes les altres categories és dirigeixen a un usuari?"
   ]
  },
  {
   "cell_type": "code",
   "execution_count": 460,
   "metadata": {},
   "outputs": [
    {
     "data": {
      "text/plain": [
       "cyberbullying_type\n",
       "other_cyberbullying    3805\n",
       "not_cyberbullying      3282\n",
       "ethnicity              2673\n",
       "gender                 2566\n",
       "religion               1764\n",
       "age                     234\n",
       "Name: count, dtype: int64"
      ]
     },
     "execution_count": 460,
     "metadata": {},
     "output_type": "execute_result"
    }
   ],
   "source": [
    "# El vostre codi aquí\n",
    "directed_tweets = df_tweets_train.drop(df_tweets_train[df_tweets_train['mentions'].isna()].index) # elimina els tweets que no contenen mencions\n",
    "directed_tweets['cyberbullying_type'].value_counts()\n"
   ]
  },
  {
   "cell_type": "markdown",
   "metadata": {},
   "source": [
    "+ Calculeu altres coses que penseu que poden ser rellevants (usuaris més mencionats, *hashtags* més comuns per cada categoria, etc.)."
   ]
  },
  {
   "cell_type": "code",
   "execution_count": 461,
   "metadata": {},
   "outputs": [
    {
     "name": "stdout",
     "output_type": "stream",
     "text": [
      "Usuaris més mencionats: \n",
      " mentions\n",
      "@tayyoung_          766\n",
      "@freebsdgirl        196\n",
      "@MaxBlumenthal      125\n",
      "@mykitchenrules      93\n",
      "@TheQuinnspiracy     87\n",
      "@IsraeliRegime       82\n",
      "@MT8_9               79\n",
      "@ChrisWarcraft       78\n",
      "@Spacekatgal         75\n",
      "@YesYoureSexist      68\n",
      "Name: count, dtype: int64\n",
      "\n",
      "\n",
      "Hashtags més comuns per tipus de cyberbullying: \n",
      " cyberbullying_type\n",
      "age                        #MG\n",
      "ethnicity              #racism\n",
      "gender                    #MKR\n",
      "not_cyberbullying         #MKR\n",
      "other_cyberbullying       #MKR\n",
      "religion                #Islam\n",
      "dtype: object\n"
     ]
    }
   ],
   "source": [
    "# El vostre codi aquí\n",
    "top_mentions = directed_tweets['mentions'].explode().value_counts() # explode converteix la llista de llistes en una llista\n",
    "print(\"Usuaris més mencionats: \\n\",top_mentions[:10])\n",
    "hashtags_df = df_tweets_train.explode('hashtags')[['cyberbullying_type', 'hashtags']] #fem un nou dataframe amb els hashtags i el tipus de cyberbullying\n",
    "hashtags_per_category = hashtags_df.groupby(['cyberbullying_type', 'hashtags']).size() \n",
    "common_hashtags_per_category = hashtags_per_category.groupby('cyberbullying_type').idxmax().apply(lambda x: x[1])\n",
    "\n",
    " # agrupa per tipus i concatena les llistes de hashtags\n",
    "print(\"\\n\\nHashtags més comuns per tipus de cyberbullying: \\n\",common_hashtags_per_category)"
   ]
  },
  {
   "cell_type": "markdown",
   "metadata": {},
   "source": [
    "### 2. Comptar paraules"
   ]
  },
  {
   "cell_type": "code",
   "execution_count": 462,
   "metadata": {
    "tags": []
   },
   "outputs": [],
   "source": [
    "# No modificar aquesta cel·la, s'encarrega de fer el procés més eficient.\n",
    "# Intenteu entendre quà fa aquesta cel·la\n",
    "\n",
    "def memo(f):\n",
    "    class memodict(dict):\n",
    "        def __init__(self, f):\n",
    "            self.f = f\n",
    "        def __call__(self, *args):\n",
    "            return self[args]\n",
    "        def __missing__(self, key):\n",
    "            ret = self[key] = self.f(*key)\n",
    "            return ret\n",
    "    return memodict(f)"
   ]
  },
  {
   "cell_type": "markdown",
   "metadata": {},
   "source": [
    "El primer que haurem d'implementar és la funció ``standardize`` que estandaritzarà les paraules."
   ]
  },
  {
   "cell_type": "markdown",
   "metadata": {},
   "source": [
    "#### **EXERCICI 2:** \n",
    "\n",
    "+ Empleneu la funció següent que, donada una paraula, la estandaritzi les paraules passant tots els caràcters a minúscules.\n",
    "\n",
    "**Observació:** Podeu considerar diverses possibilitats per aquesta funció:\n",
    "* Només canviar les lletres majúscules per minúscules\n",
    "* Eliminar tots els símbols que no siguin @, # i _ (i substituïr-los per un espai)\n",
    "* Eliminar tots els símbols (i substituïr-los per un espai)\n",
    "* etc.\n",
    "\n",
    "El mòdul `re` de Python és especialment útil en aquest punt. \n",
    "\n",
    "Trieu aquella possibilitat que dóna millor resultats a l'exercici 7!"
   ]
  },
  {
   "cell_type": "code",
   "execution_count": 463,
   "metadata": {
    "tags": []
   },
   "outputs": [],
   "source": [
    "from nltk.stem import SnowballStemmer\n",
    "@memo    \n",
    "def standardize(word):\n",
    "    \"\"\"\n",
    "    :param word: paraula a estandaritzar\n",
    "    :return : paraula estandaritzada\n",
    "    \"\"\"\n",
    "    \n",
    "    # El vostre codi aquí\n",
    "    word = word.lower() # passa a minúscules\n",
    "    word = re.sub(r'[^a-z0-9\\s]', ' ', word)  # substitueix tots els caràcters que no siguin lletres, números, espais, @, #, (, o ) per espais\n",
    "    stemmer = SnowballStemmer('english') # crea un objecte PorterStemmer\n",
    "    word = ' '.join([stemmer.stem(token) for token in word.split()]) # fem cada paraula la seva arrel (stem)\n",
    "    if len(word) == 1: # si la paraula té una sola lletra, la descartem\n",
    "        return ''\n",
    "    return word"
   ]
  },
  {
   "cell_type": "code",
   "execution_count": 464,
   "metadata": {},
   "outputs": [
    {
     "data": {
      "text/plain": [
       "'taller del nous uso'"
      ]
     },
     "execution_count": 464,
     "metadata": {},
     "output_type": "execute_result"
    }
   ],
   "source": [
    "standardize(\"Taller DELS noUS USOS\")"
   ]
  },
  {
   "cell_type": "code",
   "execution_count": 465,
   "metadata": {},
   "outputs": [
    {
     "data": {
      "text/plain": [
       "'bulli'"
      ]
     },
     "execution_count": 465,
     "metadata": {},
     "output_type": "execute_result"
    }
   ],
   "source": [
    "standardize(\"bullied\")"
   ]
  },
  {
   "cell_type": "code",
   "execution_count": 466,
   "metadata": {},
   "outputs": [
    {
     "data": {
      "text/plain": [
       "'bulli'"
      ]
     },
     "execution_count": 466,
     "metadata": {},
     "output_type": "execute_result"
    }
   ],
   "source": [
    "standardize(\"bullying\")"
   ]
  },
  {
   "cell_type": "code",
   "execution_count": 467,
   "metadata": {},
   "outputs": [
    {
     "data": {
      "text/plain": [
       "'bulli'"
      ]
     },
     "execution_count": 467,
     "metadata": {},
     "output_type": "execute_result"
    }
   ],
   "source": [
    "standardize(\"Bully\")"
   ]
  },
  {
   "cell_type": "code",
   "execution_count": 468,
   "metadata": {},
   "outputs": [
    {
     "data": {
      "text/plain": [
       "'peopl'"
      ]
     },
     "execution_count": 468,
     "metadata": {},
     "output_type": "execute_result"
    }
   ],
   "source": [
    "standardize(\"people\")"
   ]
  },
  {
   "cell_type": "markdown",
   "metadata": {},
   "source": [
    "#### **EXERCICI 3:** \n",
    "\n",
    "+ Feu una funció ``count_words`` que construeixi un diccionari que contingui totes les paraules que s'han trobat al dataset, tot indicant el total de cops que ha aparegut cadascuna i el nombre de piulades on apareix. \n",
    "\n",
    "El resultat ha de ser un diccionari d'aquest tipus (no necessàriament amb aquest valors):\n",
    "\n",
    "```python\n",
    "{\n",
    "    'memory' : {'n_ocur': 88, 'n_piu': 76},\n",
    "    'best': {'n_ocur': 123, 'n_piu': 65},\n",
    "    ...\n",
    "}\n",
    "```"
   ]
  },
  {
   "cell_type": "code",
   "execution_count": 469,
   "metadata": {
    "scrolled": true,
    "tags": []
   },
   "outputs": [],
   "source": [
    "def count_words(df):\n",
    "    \"\"\"\n",
    "    :param df: DataFrame amb les piulades i la informació associada\n",
    "    :return : Diccionari amb el format {word : {n_ocur: valor, n_tweets: valor}, ...}\n",
    "    \"\"\"\n",
    "\n",
    "    # El vostre codi aquí\n",
    "    \n",
    "    dicc = {}\n",
    "    for tweet in df['tweet_text']: # per cada tweet\n",
    "        word_in_this_tweet = [] # llista de paraules que ja han aparegut en aquest tweet\n",
    "        for word in tweet.split(): # per cada paraula\n",
    "            word = standardize(word) # estandaritza la paraula\n",
    "            if word in dicc: # si la paraula ja està al diccionari\n",
    "                dicc[word]['n_ocur'] += 1 # augmenta el nombre d'ocurrències\n",
    "            else: # si no hi és\n",
    "                dicc[word] = {'n_ocur': 1, 'n_tweets': 0} # crea una nova entrada amb el nombre d'ocurrències a 1 i el nombre de tweets a 0\n",
    "            if word not in word_in_this_tweet: # si la paraula no ha aparegut en aquest tweet\n",
    "                dicc[word]['n_tweets'] += 1 # augmenta el nombre de tweets\n",
    "                word_in_this_tweet.append(word) # afegeix la paraula a la llista de paraules que ja han aparegut en aquest tweet\n",
    "\n",
    "    return dicc"
   ]
  },
  {
   "cell_type": "code",
   "execution_count": 470,
   "metadata": {},
   "outputs": [
    {
     "name": "stdout",
     "output_type": "stream",
     "text": [
      "48552\n",
      "'rape': {'n_ocur': 3639, 'n_tweets': 3273}\n"
     ]
    }
   ],
   "source": [
    "dicc_text = count_words(df_tweets_train)\n",
    "print (len(dicc_text))\n",
    "print(\"'rape':\",dicc_text['rape'])"
   ]
  },
  {
   "cell_type": "markdown",
   "metadata": {},
   "source": [
    "### 3. Comptar paraules per cada categoria de piulada"
   ]
  },
  {
   "cell_type": "code",
   "execution_count": 471,
   "metadata": {},
   "outputs": [
    {
     "data": {
      "text/html": [
       "<div>\n",
       "<style scoped>\n",
       "    .dataframe tbody tr th:only-of-type {\n",
       "        vertical-align: middle;\n",
       "    }\n",
       "\n",
       "    .dataframe tbody tr th {\n",
       "        vertical-align: top;\n",
       "    }\n",
       "\n",
       "    .dataframe thead th {\n",
       "        text-align: right;\n",
       "    }\n",
       "</style>\n",
       "<table border=\"1\" class=\"dataframe\">\n",
       "  <thead>\n",
       "    <tr style=\"text-align: right;\">\n",
       "      <th></th>\n",
       "      <th>tweet_text</th>\n",
       "      <th>cyberbullying_type</th>\n",
       "      <th>mentions</th>\n",
       "      <th>hashtags</th>\n",
       "      <th>n_hashtags</th>\n",
       "    </tr>\n",
       "  </thead>\n",
       "  <tbody>\n",
       "    <tr>\n",
       "      <th>25102</th>\n",
       "      <td>oh my god. oh my god. rogue tried to explain t...</td>\n",
       "      <td>other_cyberbullying</td>\n",
       "      <td>NaN</td>\n",
       "      <td>[]</td>\n",
       "      <td>0</td>\n",
       "    </tr>\n",
       "    <tr>\n",
       "      <th>38855</th>\n",
       "      <td>It’s 2020 and private school kids still bully?...</td>\n",
       "      <td>age</td>\n",
       "      <td>NaN</td>\n",
       "      <td>[]</td>\n",
       "      <td>0</td>\n",
       "    </tr>\n",
       "    <tr>\n",
       "      <th>18909</th>\n",
       "      <td>Terrorists r enemies of Humanity &amp;amp; enemies...</td>\n",
       "      <td>religion</td>\n",
       "      <td>NaN</td>\n",
       "      <td>[#ISISFalse]</td>\n",
       "      <td>1</td>\n",
       "    </tr>\n",
       "    <tr>\n",
       "      <th>21702</th>\n",
       "      <td>I am a Conservative christian woman who has be...</td>\n",
       "      <td>religion</td>\n",
       "      <td>NaN</td>\n",
       "      <td>[]</td>\n",
       "      <td>0</td>\n",
       "    </tr>\n",
       "    <tr>\n",
       "      <th>27834</th>\n",
       "      <td>@ctayyy that's so fucking annoying smh. I wish...</td>\n",
       "      <td>other_cyberbullying</td>\n",
       "      <td>[@ctayyy]</td>\n",
       "      <td>[]</td>\n",
       "      <td>0</td>\n",
       "    </tr>\n",
       "  </tbody>\n",
       "</table>\n",
       "</div>"
      ],
      "text/plain": [
       "                                              tweet_text   cyberbullying_type  \\\n",
       "25102  oh my god. oh my god. rogue tried to explain t...  other_cyberbullying   \n",
       "38855  It’s 2020 and private school kids still bully?...                  age   \n",
       "18909  Terrorists r enemies of Humanity &amp; enemies...             religion   \n",
       "21702  I am a Conservative christian woman who has be...             religion   \n",
       "27834  @ctayyy that's so fucking annoying smh. I wish...  other_cyberbullying   \n",
       "\n",
       "        mentions      hashtags  n_hashtags  \n",
       "25102        NaN            []           0  \n",
       "38855        NaN            []           0  \n",
       "18909        NaN  [#ISISFalse]           1  \n",
       "21702        NaN            []           0  \n",
       "27834  [@ctayyy]            []           0  "
      ]
     },
     "execution_count": 471,
     "metadata": {},
     "output_type": "execute_result"
    }
   ],
   "source": [
    "df_tweets_train.head()"
   ]
  },
  {
   "cell_type": "markdown",
   "metadata": {},
   "source": [
    "#### **EXERCICI 4:** \n",
    "\n",
    "+ Fent servir la funció que se us dona a continuació (`eachTopic`), apliqueu-la per tal de comptar les paraules que s'han trobat i la seva ocurrència segregant ara per categoria.\n",
    "\n",
    "El resultat ha de ser un diccionari d'aquest tipus (no necessàriament amb aquest valors):\n",
    "\n",
    "```python\n",
    "{\n",
    "    'ethnicity': {\n",
    "        'race' : {'n_ocur': 88, 'n_piu': 76},\n",
    "        'what': {'n_ocur': 123, 'n_piu': 65}\n",
    "        ...\n",
    "    },\n",
    "    ...\n",
    "    'gender': {\n",
    "        'jokes' : {'n_ocur': 18, 'n_piu': 17},\n",
    "        'you': {'n_ocur': 154, 'n_piu': 66}\n",
    "    }\n",
    "    ...\n",
    "}\n",
    "```"
   ]
  },
  {
   "cell_type": "code",
   "execution_count": 472,
   "metadata": {
    "tags": []
   },
   "outputs": [],
   "source": [
    "def count_words_categories(df):\n",
    "    \"\"\"\n",
    "    Funció que ha de constuir un diccionari que conté la freqüència de les \n",
    "    paraules i el número de piulades on ha aparegut. \n",
    "    Aquesta informació ha de ser dividida per diferents categories de cyberbullying.\n",
    "    \n",
    "    :param df: DataFrame amb les piulades i la informació associada\n",
    "    :return : Diccionari amb el format {label : {word : {n_ocur: valor, n_news: valor} } }\n",
    "    \"\"\"\n",
    "    words_topic = {}\n",
    "    \n",
    "    def eachTopic(group):\n",
    "        # Count words on this topic and save to dictionary\n",
    "        words_topic[group['cyberbullying_type'].iloc[0]] = count_words(group)\n",
    "        \n",
    "    # El vostre codi aquí\n",
    "    df.groupby('cyberbullying_type').apply(eachTopic)\n",
    "\n",
    "    return words_topic\n"
   ]
  },
  {
   "cell_type": "code",
   "execution_count": 473,
   "metadata": {},
   "outputs": [
    {
     "name": "stdout",
     "output_type": "stream",
     "text": [
      "Categories: 6\n",
      "La paraula 'muslims' a la categoria 'religion': {'n_ocur': 3664, 'n_tweets': 3074}\n"
     ]
    }
   ],
   "source": [
    "words_categories = count_words_categories(df_tweets_train)\n",
    "print (\"Categories:\", len(words_categories))\n",
    "print (\"La paraula 'muslims' a la categoria 'religion':\", words_categories[\"religion\"]['muslim'])"
   ]
  },
  {
   "cell_type": "markdown",
   "metadata": {},
   "source": [
    "### 4. Paraules més freqüents a les piulades\n",
    "\n",
    "\n",
    "**El problema de com escollir el vector de carecterístiques**\n",
    "\n",
    "L'elecció de les paraules que formen el vector de característiques és un pas crític. En funció de com de bona sigui aquesta descripció, millor funcionarà el sistema. Tot i que us deixem a vosaltres la política de creació del vector de característiques us donem una pista: una possible estratègia és agafar aquelles paraules que apareixen entre en un 10 i un 50 percent del total de piludades (sense tenir en compte la categoria). És a dir, paraules que no són ni massa freqüents ni massa poc. Podeu experimentar variant aquests valors.\n",
    "\n",
    "Una altra estratègia interessant és eliminar \"stop words\"."
   ]
  },
  {
   "cell_type": "markdown",
   "metadata": {},
   "source": [
    "#### **EXERCICI 5:** \n",
    "\n",
    "+ Feu una funció ``topNwords`` que crei un diccionari amb les N paraules més representatives (les que apareixen amb més freqüència) de cadascuna de les categories de *cyberbullying* (Tenint en compte que haureu tret aquelles paraules que apareixen en la majoria de piulades, així com també, les que únicament apareixen en un conjunt molt petit de piulades). Una pista de que aneu ben encaminats es que per cadascuna de les categories de *cyberbullying* obtingueu paraules rellevants per aquesta. Si no es així, vol dir que heu d'incrementar el nombre de paraules a saltar (*skip_top*).\n",
    "\n",
    "El resultat serà un diccionari tipus (no necessàriament amb aquest valors):\n",
    "\n",
    "```python\n",
    "{\n",
    "    'age': ['school', 'high', ...],\n",
    "    ...\n",
    "    'religion': ['muslims', 'christian',...]\n",
    "    ...\n",
    "}\n",
    "```\n",
    "\n",
    "+ Experimenteu omplint la llista `skip_top` amb aquelles paraules que penseu no tenen significat o relevancia per definir cada categoria. Podeu buscar informació sobre **stop words** a internet i definir varies llistes fins que penseu que obteniu una bona representació de paraules per categoria de `cyberbullying`."
   ]
  },
  {
   "cell_type": "code",
   "execution_count": 474,
   "metadata": {
    "tags": []
   },
   "outputs": [],
   "source": [
    "def topNwords(df, words, N, skip=[]):\n",
    "    \"\"\"\n",
    "    :param df: DataFrame amb les piulades i la informació associada\n",
    "    :param words: diccionari amb les paraules i la seva frequencia\n",
    "    :param N: número de paraules més representatives que volem considerar\n",
    "    :return : Diccionari amb el format {categoria1: llista_top_words_cat_1,  \n",
    "                                        categoria2: llista_top_words_cat_2, ...} \n",
    "    \"\"\"\n",
    "    top_words=dict()\n",
    "    words_categories = count_words_categories(df)\n",
    "    min_freq = 0\n",
    "    max_freq = 1\n",
    "    #el vostre codi aquí\n",
    "    for category,word_freq in words_categories.items():\n",
    "        filtered_words = {k:v for k,v in word_freq.items() if k not in skip} # elimina les paraules que no volem considerar\n",
    "        total_tweets_category = df['cyberbullying_type'].value_counts()[category] # nombre total de tweets de la categoria\n",
    "        # elimina les paraules que no compleixen la freqüència mínima i màxima\n",
    "        filtered_words = {k:v for k,v in filtered_words.items() if v['n_tweets']/total_tweets_category >= min_freq and v['n_tweets']/total_tweets_category <= max_freq} \n",
    "        sorted_words = sorted(filtered_words.items(), key=lambda x: x[1]['n_ocur'], reverse=True)\n",
    "        top_words[category] = [word[0] for word in sorted_words[:N]]\n",
    "        \n",
    "    return top_words"
   ]
  },
  {
   "cell_type": "code",
   "execution_count": 475,
   "metadata": {},
   "outputs": [
    {
     "name": "stderr",
     "output_type": "stream",
     "text": [
      "[nltk_data] Downloading package stopwords to\n",
      "[nltk_data]     C:\\Users\\fparc\\AppData\\Roaming\\nltk_data...\n",
      "[nltk_data]   Package stopwords is already up-to-date!\n"
     ]
    }
   ],
   "source": [
    "import nltk\n",
    "from nltk.corpus import stopwords\n",
    "nltk.download('stopwords') # descarrega el corpus de stopwords\n",
    "stopwords = set(stopwords.words('english')) # crea un set amb les stopwords en anglès\n",
    "#paraules que hem observat que pot anar be treure (en funció de la divisió entre train i test poden variar els resultats amb aquestes paraules)\n",
    "custom_stopwords =['like','','don t','get','peopl','make','know','go','amp','use','becaus','say','call','one','i m',\n",
    " 'it s','would','look','think','time','never','want','tri', 'see', 'even','still',\n",
    " 'whi','love','thing','hate','way', 'onli','u','talk','need', 'can t','stop', 'take', 'you re' 'come','got',\n",
    " 'year','shit', 'you re', 'come',  'back', 'fuck', 'didn t', 'realli', 'day', 'feel',\n",
    " 'bad', 'much','good','tell', 'someon', 'us', 'lol', 'work', 'ever', 'well','tweet', 'women', 'that s','right','i ve', 'rt']\n",
    "stopwords.update(custom_stopwords) # afegim les nostres stopwords al set\n",
    "skip_top = stopwords # paraules que volem ignorar\n"
   ]
  },
  {
   "cell_type": "code",
   "execution_count": 476,
   "metadata": {},
   "outputs": [
    {
     "data": {
      "text/plain": [
       "{'age': ['bulli', 'school', 'high', 'girl', 'kid'],\n",
       " 'ethnicity': ['nigger', 'dumb', 'ass', 'black', 'white'],\n",
       " 'gender': ['joke', 'rape', 'gay', 'bitch', 'femal'],\n",
       " 'not_cyberbullying': ['mkr', 'bulli', 'school', 'kat', 'andr'],\n",
       " 'other_cyberbullying': ['bulli', 'mkr', 'idiot', 'twitter', 'ass'],\n",
       " 'religion': ['muslim', 'idiot', 'islam', 'christian', 'terrorist']}"
      ]
     },
     "execution_count": 476,
     "metadata": {},
     "output_type": "execute_result"
    }
   ],
   "source": [
    "top_words = topNwords(df_tweets_train, dicc_text, 200, skip_top) # mostra les N paraules més representatives de cada categoria\n",
    "{k:top_words[k][:5] for k in top_words.keys()}"
   ]
  },
  {
   "cell_type": "code",
   "execution_count": 477,
   "metadata": {},
   "outputs": [
    {
     "name": "stdout",
     "output_type": "stream",
     "text": [
      "Paraules que surten a totes les categories: ['girl', 'friend', 'mean', 'guy', 'also', 'life', 'alway', 'everi', 'everyon', 'made']\n"
     ]
    }
   ],
   "source": [
    "\n",
    "word_in_n_categories = {}\n",
    "for category, words in top_words.items():\n",
    "    for word in words:\n",
    "        if word in word_in_n_categories:\n",
    "            word_in_n_categories[word] += 1\n",
    "        else:\n",
    "            word_in_n_categories[word] = 1\n",
    "\n",
    "word_in_n_categories = {k:v for k,v in word_in_n_categories.items() if v > 5} # elimina les paraules que només apareixen en una categoria\n",
    "\n",
    "word_list = list(word_in_n_categories.keys())\n",
    "print(\"Paraules que surten a totes les categories:\", word_list[:10])"
   ]
  },
  {
   "cell_type": "markdown",
   "metadata": {},
   "source": [
    "### 5. Vector de Característiques\n",
    "\n",
    "#### **EXERCICI 6:** \n",
    "\n",
    "Creeu el vector de característiques necessari per a fer l’entrenament del Naïve Bayes amb la funció ``create_features``.\n",
    "\n",
    "El resultat serà un diccionari tipus (no necessàriament amb aquest valors):\n",
    "\n",
    "```python\n",
    "{\n",
    "    0: np.array([0, 1, 1, 0, ...]),\n",
    "    1: np.array([0, 1, 1, 1, ...]),\n",
    "    ...\n",
    "}\n",
    "```"
   ]
  },
  {
   "cell_type": "code",
   "execution_count": 478,
   "metadata": {
    "tags": []
   },
   "outputs": [],
   "source": [
    "def create_features(df, top_words): \n",
    "    \"\"\"\n",
    "    :params df: DataFrame amb les piulades i la informació associada\n",
    "    :params top_words: ha de ser el diccionari que retorna topNWords\n",
    "    :return : diccionari o pd.Series que conté un np.array per a \n",
    "        cadascuna de les piulades amb el vector de característiques corresponent.\n",
    "    \"\"\"\n",
    "    \n",
    "    # el vostre codi aquí\n",
    "    dict_feat_vector = {}\n",
    "    top_words_all = [word for category in top_words.values() for word in category] # llista de totes les paraules més representatives\n",
    "    top_words_all = list(set(top_words_all)) # elimina les paraules repetides\n",
    "    for index, row in df.iterrows(): # per cada fila del dataframe\n",
    "        text = row['tweet_text']\n",
    "        feat_vector = np.zeros(len(top_words_all), dtype=int) # crea un vector de zeros de la mida del nombre de paraules més representatives\n",
    "        words = [standardize(word) for word in text.split()] # estandaritza les paraules del tweet\n",
    "        \n",
    "        for i, word in enumerate(top_words_all): # per cada categoria i paraules més representatives\n",
    "            if word in words: # per cada paraula, si està al tweet\n",
    "                feat_vector[i] = 1 # augmenta en 1 el valor de la posició corresponent al vector de característiques\n",
    "        dict_feat_vector[index] = feat_vector # afegeix el vector de característiques al diccionari\n",
    "\n",
    "    return dict_feat_vector"
   ]
  },
  {
   "cell_type": "code",
   "execution_count": 479,
   "metadata": {
    "tags": []
   },
   "outputs": [],
   "source": [
    "N = 30 # Aquest parametre el podem canviar i fer proves per avaluar quin és el millor valor. \n",
    "words_categories = count_words_categories(df_tweets_train)\n",
    "top_words = topNwords(df_tweets_train, words_categories, N, skip_top)\n",
    "dict_feat_vector = create_features(df_tweets_train, top_words)"
   ]
  },
  {
   "cell_type": "code",
   "execution_count": 480,
   "metadata": {},
   "outputs": [
    {
     "data": {
      "text/plain": [
       "38153"
      ]
     },
     "execution_count": 480,
     "metadata": {},
     "output_type": "execute_result"
    }
   ],
   "source": [
    "len(dict_feat_vector)"
   ]
  },
  {
   "cell_type": "code",
   "execution_count": 481,
   "metadata": {},
   "outputs": [
    {
     "data": {
      "text/plain": [
       "{25102: array([0, 0, 0, 0, 0, 0, 0, 0, 0, 0, 0, 0, 0, 0, 0, 0, 0, 0, 0, 0, 0, 0,\n",
       "        0, 0, 0, 0, 0, 0, 0, 0, 1, 0, 0, 0, 0, 0, 0, 0, 0, 0, 0, 0, 0, 0,\n",
       "        0, 0, 0, 0, 0, 0, 0, 0, 0, 0, 1, 0, 0, 0, 0, 0, 0, 0, 0, 0, 0, 0,\n",
       "        0, 0, 0, 0, 0, 0, 0, 0, 0, 0, 0, 0, 0, 0, 0, 0, 0, 0, 0, 0, 0, 0,\n",
       "        0, 0, 0, 0, 0, 0, 0, 0, 0, 0, 0, 0, 0, 0, 0, 0, 0, 0, 0, 0, 0, 0,\n",
       "        0, 0, 0, 0, 0, 0, 0, 0, 0, 0, 0, 0, 0, 0, 0, 0, 0]),\n",
       " 38855: array([0, 0, 0, 0, 0, 0, 0, 0, 0, 0, 0, 0, 0, 1, 0, 0, 0, 0, 0, 0, 0, 0,\n",
       "        0, 0, 0, 0, 0, 0, 0, 0, 0, 0, 0, 0, 0, 0, 0, 0, 0, 0, 0, 0, 0, 0,\n",
       "        0, 0, 0, 0, 0, 0, 0, 0, 0, 0, 0, 0, 0, 0, 0, 0, 0, 0, 0, 0, 0, 0,\n",
       "        0, 0, 0, 0, 0, 0, 0, 0, 0, 0, 0, 0, 0, 1, 0, 0, 1, 0, 0, 0, 0, 0,\n",
       "        0, 0, 0, 0, 0, 0, 0, 0, 0, 0, 0, 0, 0, 0, 0, 0, 0, 0, 0, 0, 0, 0,\n",
       "        0, 0, 0, 0, 0, 0, 0, 0, 0, 0, 0, 0, 0, 0, 0, 0, 0]),\n",
       " 18909: array([0, 0, 0, 0, 0, 0, 0, 0, 0, 0, 0, 1, 0, 0, 0, 0, 0, 0, 0, 0, 0, 0,\n",
       "        0, 0, 0, 0, 0, 1, 0, 0, 0, 0, 0, 0, 0, 0, 0, 0, 0, 0, 0, 1, 0, 0,\n",
       "        0, 1, 0, 0, 0, 0, 0, 0, 0, 0, 0, 0, 0, 0, 0, 0, 0, 0, 0, 0, 0, 0,\n",
       "        0, 0, 0, 0, 0, 0, 0, 0, 0, 0, 0, 0, 0, 0, 0, 0, 0, 0, 0, 0, 0, 0,\n",
       "        0, 0, 0, 0, 0, 1, 0, 0, 0, 0, 0, 0, 0, 0, 0, 0, 0, 0, 0, 0, 1, 0,\n",
       "        0, 0, 0, 0, 0, 0, 0, 0, 0, 0, 0, 0, 0, 0, 0, 0, 0])}"
      ]
     },
     "execution_count": 481,
     "metadata": {},
     "output_type": "execute_result"
    }
   ],
   "source": [
    "first_five_keys = list(dict_feat_vector.keys())[:3]\n",
    "{k:dict_feat_vector[k]  for k in first_five_keys}"
   ]
  },
  {
   "cell_type": "markdown",
   "metadata": {},
   "source": [
    "### 6. El classificador Naïve Bayes\n",
    "\n",
    "Un cop tenim una representació necessitem un procés d'aprenentatge que ens permeti passar de la descripció a una categoria. \n",
    "En aquest lliurament farem servir el classificador Naïve Bayes. \n",
    "Aquest classificador forma part de la família de classificadors probabilístics. \n",
    "La sortida d'un classificador probabilístic és un valor de probabilitat donat un exemple per cadascuna de les categories. \n",
    "La decisió final correspon a la categoria amb més probabilitat. \n",
    "\n",
    "\n",
    "Els classificadors probabilistics Bayesians es basen en el teorema de Bayes per realitzar els càlculs per estimar la probabilitat condicionada $p(y|x)$, on $y$ és la categoria i $\\mathbf x$ les característiques de l'exemple.\n",
    "\n",
    "La fòrmula de Bayes és fàcil de deduir. Sabem que:\n",
    "\n",
    "$$ p(\\mathbf x,y) = p(\\mathbf x|y)p(y) = p(y|\\mathbf x)p(\\mathbf x)$$\n",
    "d'on podem extreure que: \n",
    "$$ p(y|\\mathbf x) = \\frac{p(\\mathbf x|y)p(y)}{p(\\mathbf x)}$$\n",
    "\n",
    "\n",
    "La millor categoria serà la que fa màxima la probabilitat $ p(y|\\mathbf x)$ i per comparar aquests valors i saber quin és el màxim no cal calcular $p(\\mathbf x)$ (que és constant). Per tant, considerarem que:\n",
    "$$ p(y|\\mathbf x) \\approx p(y) · p(\\mathbf x|y)$$\n",
    "\n",
    "\n",
    "Les deduccions fins a aquest punt són vàlides per la majoria de classificadors Bayesians. \n",
    "Naïve Bayes es distingeix de la resta perquè imposa una condició encara més restrictiva. \n",
    "Considerem $\\mathbf x=(x_1, \\cdots, x_n)$ un conjunt d'$N$ variables aleatòries (en el nostre cas, les paraules seleccionades). \n",
    "Naïve Bayes assumeix que la probabilitat de la presència d'una paraula en una piulada és independent de la presència d'una altra i per tant podem escriure:\n",
    "$$p(x_1,x_2,...,x_N | y) = p(x_1|y)p(x_2|y)...p(x_N|y)$$\n",
    "\n",
    "\n",
    "Podem interpretar l'anterior equació de la següent forma: La probabilitat de que una piuldad descrita pel vector de característiques (0,1,0,1,1,1) sigui de la classe \"gender\" és proporcional al producte de la probabilitat que la primera paraula del vector no aparegui en les piulades sobre \"gender\" per la probabilitat que la segona paraula sí que hi aparegui, etc.\n",
    "\n",
    "\n",
    "**Estimant les probabilitats marginals condicionades**\n",
    "\n",
    "L'últim pas que ens queda és trobar el valor de les probabilitats condicionades. \n",
    "Farem servir la representació de $0$'s i $1$'s indicant que la paraula no apareix (0) o sí apareix (1) a la piulada. \n",
    "\n",
    "Per trobar el valor de la probabilitat condicionada farem servir una aproximació freqüentista a la probabilitat. \n",
    "Això vol dir que calcularem la freqüència d'aparició de cada paraula per a cada categoria. \n",
    "Aquest càlcul es fa dividint el nombre de piulades de la categoria en que apareix la paraula pel nombre total de piulades d'aquella categoria. \n",
    "\n",
    "En general:\n",
    "$$p(x = \\text{\"school\"} | y = C)= \\frac{A}{B} $$\n",
    "on $A$ és el número de piulades de la categoria $C$ on hi apareix la paraula 'school' i $B$ és el número total de piulades de la categoria $C$.\n",
    "\n",
    "\n",
    "#### Punts delicats a tenir en compte.\n",
    "\n",
    "**El problema de la probabilitat 0**\n",
    "\n",
    "Si us hi fixeu bé, la probabilitat pot ser 0!!  Això vol dir, que si en una piulada no hi apareix una paraula, no pot ser classificada com cap tipus de *cyber bullying* (la presència del 0 al producte fa que el resultat sigui 0).\n",
    "\n",
    "No sembla raonable que s'assigni o no en aquesta categoria segons si en la piulada hi apareix o no una única paraula. \n",
    "Per tant, el que s'acostuma a fer és donar una baixa probabilitat en comptes de zero. \n",
    "\n",
    "Una de les possibles solucions es fer servir la correcció de Laplace. Seguint l'exemple anterior la correcció de Laplace és:\n",
    "\n",
    "$$p(x= \\text{\"school\"} | y = 'C' ) = \\frac{A+1}{B+M}$$ \n",
    "\n",
    "on $M$ és el nombre de categories.\n",
    "\n",
    "**El problema de l'\"underflow\"**\n",
    "\n",
    "La valor que hem de calcular en el Naive Bayes és el resultat d'un producte. \n",
    "El nombre de caractéristiques del vector és el nombre de termes del producte. \n",
    "Aquests nombres són iguals o menors a 1 i n'hi ha molts, si els multipliquem entre ells el resultat serà massa petit per a representar-lo en un nombre de punt flotant i el càlcul acabarà sent reduït a zero. \n",
    "\n",
    "Per solucionar aquest problema en comptes d'operar fent multiplicacions, se sol passar a l'escala logarítmica i allà operar fent servir sumes en comptes de multiplicacions."
   ]
  },
  {
   "cell_type": "markdown",
   "metadata": {},
   "source": [
    "#### **EXERCICI 7:** \n",
    "\n",
    "+ Implementeu la funció d'aprenentatge del classificador Naïve Bayes (funció ``naive_bayes_learn()``) que retorni un diccionari amb estructura `{categoria: [P0, ..., PN]}` on la llista representa la probabilitat\n",
    "marginal condicionada de cada paraula del vector de característiques per la categoria corresponent. \n",
    "\n",
    "+ Implementeu la funció ``naive_bayes`` que implementa el classificador. Noteu que aquesta funció está guiada i només haureu d'emplenar els espais on hem posat tres punts suspensius \"#···\".  "
   ]
  },
  {
   "cell_type": "code",
   "execution_count": 482,
   "metadata": {},
   "outputs": [],
   "source": [
    "def naive_bayes_learn(df, feats):\n",
    "    \"\"\"\n",
    "    :params df: DataFrame amb les piulades i la informació associada\n",
    "    :params feats: vector de característiques de cada piulada\n",
    "    :return : probabilitats marginals condicionades\n",
    "    \"\"\"\n",
    "    \n",
    "    # El vostre codi aquí\n",
    "    categories = df['cyberbullying_type'].unique() # categories de cyberbullying\n",
    "    probs = {} # diccionari de probabilitats\n",
    "\n",
    "    \n",
    "    for category in categories:\n",
    "       \n",
    "        df_category = df[df['cyberbullying_type'] == category] # dataframe amb les piulades de la categoria\n",
    "        feats_category = [feats[i] for i in df_category.index]\n",
    "        B = len(feats_category) # nombre de piulades de la categoria\n",
    "        \n",
    "        \n",
    "        probs_category = np.sum(feats_category, axis=0)\n",
    "        probs_category = probs_category+1\n",
    "\n",
    "        probs[category] = probs_category/(B+6)\n",
    "    return probs\n"
   ]
  },
  {
   "cell_type": "code",
   "execution_count": 483,
   "metadata": {},
   "outputs": [
    {
     "name": "stdout",
     "output_type": "stream",
     "text": [
      "Top words per N = 1 {'age': ['bulli'], 'ethnicity': ['nigger'], 'gender': ['joke'], 'not_cyberbullying': ['mkr'], 'other_cyberbullying': ['bulli'], 'religion': ['muslim']}\n",
      "Probabilitats marginals condicionades per N = 1\n",
      "other_cyberbullying 5\n",
      "age 5\n",
      "religion 5\n",
      "not_cyberbullying 5\n",
      "gender 5\n",
      "ethnicity 5\n",
      "{'other_cyberbullying': array([0.00015969, 0.00047908, 0.11338231, 0.00447141, 0.03417439]), 'age': array([4.71401634e-04, 1.88560654e-03, 9.67316153e-01, 7.54242615e-03,\n",
      "       1.57133878e-04]), 'religion': array([4.67071462e-04, 4.78748248e-01, 2.02397634e-03, 5.13778608e-03,\n",
      "       1.55690487e-04]), 'not_cyberbullying': array([1.56887355e-04, 7.21681832e-03, 1.39159084e-01, 4.39284594e-03,\n",
      "       1.98462504e-01]), 'gender': array([1.56225590e-04, 3.43696297e-03, 6.71770036e-03, 4.78362756e-01,\n",
      "       7.85814716e-02]), 'ethnicity': array([6.56402200e-01, 3.14218382e-03, 2.19952867e-03, 5.65593087e-03,\n",
      "       4.71327573e-04])}\n"
     ]
    }
   ],
   "source": [
    "#Imprimim el valor de les probabilitats marginals condicionades per a cada categoria \n",
    "top_words = topNwords(df_tweets_train, dicc_text, 1, skip_top)\n",
    "print('Top words per N = 1',top_words)\n",
    "dict_feat_vector = create_features(df_tweets_train, top_words)\n",
    "probs = naive_bayes_learn(df_tweets_train, dict_feat_vector)\n",
    "print('Probabilitats marginals condicionades per N = 1')\n",
    "for category, probs_category in probs.items():\n",
    "    print(category, len(probs_category))\n",
    "print(probs)"
   ]
  },
  {
   "cell_type": "code",
   "execution_count": 484,
   "metadata": {},
   "outputs": [],
   "source": [
    "import sys\n",
    "import warnings\n",
    "from IPython import embed\n",
    "def naive_bayes(df_train, feat_train, feat_test=None, df_test=None):\n",
    "    \"\"\"\n",
    "    Funció que implementa el clasificador Naive_Bayes.\n",
    "    \n",
    "    Si df_test no és None, ha de calcular l'encert sobre les dades de test. És a dir,\n",
    "    després de classificar feat_test ha de comparar la classificació amb la classe\n",
    "    real i dir (print) quin percentatge d'encert ha obtingut.\n",
    "    \n",
    "    :param df_train: DataFrame amb les piulades que s'utilitzaran per l'entrenament\n",
    "    :param feat_train: Diccionari amb els vectors de caracteristiques de cada tweet de l'entrenament\n",
    "    :param feat_test: Diccionari amb els vectors de caracteristiques de cada tweet de test\n",
    "    :param df_test: DataFrame amb les piulades que s'utilitzaran pel test\n",
    "    \n",
    "    :return : Una serie on l'index correspon amb els indexos de df_test i els valors són la\n",
    "              classificació retornada per Naive Bayes\n",
    "    \"\"\"\n",
    "    probs = naive_bayes_learn(df_train, feat_train)\n",
    "    p_of_cat = count_words_categories(df_train)\n",
    "    p_total = len(p_of_cat.keys())\n",
    "    \n",
    "    def eachFeats(row):\n",
    "        id, feat = row\n",
    "        p_max = float('-inf')\n",
    "        p_cat = 0\n",
    "\n",
    "        for category in probs:\n",
    "            # Speed up by using numpy\n",
    "            # inv is the inverse of features, 0 where 1 and 1 where 0\n",
    "            # ...\n",
    "            \n",
    "            # Probs * feats is the probability of being there, while\n",
    "            # inv - inv * feat = 1 - (0, 1, 0... inverses) * probs, probability of not being there\n",
    "            # ...\n",
    "            \n",
    "            # Sum of logs [vs] underflow caused by mul of probs\n",
    "            # ...        \n",
    "            \n",
    "            inv = 1 - feat\n",
    "            prob_feat = np.log(probs[category] * feat + (1 - probs[category]) * inv).sum()    \n",
    "\n",
    "            # Take the max, do it now to avoid extra-loops\n",
    "            # ...    \n",
    "            if prob_feat > p_max:\n",
    "                p_max = prob_feat\n",
    "                p_cat = category\n",
    "        return id, p_cat\n",
    "\n",
    "    data = map(eachFeats, feat_test.items())\n",
    "    data = pd.Series(dict(data))\n",
    "    correct = data == df_test['cyberbullying_type']\n",
    "    print(\"Accuracy: {}\".format(correct.sum() / correct.size))\n",
    "    \n",
    "    return correct.sum() / correct.size"
   ]
  },
  {
   "cell_type": "code",
   "execution_count": 485,
   "metadata": {},
   "outputs": [],
   "source": [
    "N = 20 # Aquest parametre el podeu canviar i fer proves per avaluar quin és el millor valor. \n",
    "\n",
    "words_topics = count_words_categories(df_tweets_train)\n",
    "top_words = topNwords(df_tweets_train, words_topics, N, skip_top)\n",
    "\n",
    "feat_train = create_features(df_tweets_train, top_words)\n",
    "feat_test = create_features(df_tweets_test, top_words)"
   ]
  },
  {
   "cell_type": "code",
   "execution_count": 486,
   "metadata": {},
   "outputs": [
    {
     "name": "stdout",
     "output_type": "stream",
     "text": [
      "Accuracy: 0.7956808889820736\n"
     ]
    }
   ],
   "source": [
    "accuracy = naive_bayes(df_tweets_train, feat_train, feat_test, df_tweets_test)"
   ]
  },
  {
   "cell_type": "markdown",
   "metadata": {},
   "source": [
    "Haurieu d'obtenir una precisió del 67-70%. "
   ]
  },
  {
   "cell_type": "markdown",
   "metadata": {},
   "source": [
    "#### **EXERCICI 8:** "
   ]
  },
  {
   "cell_type": "markdown",
   "metadata": {},
   "source": [
    "El possible procediment per tal d'aconseguir una major precisió seria el següent:\n",
    "+ Es poden implementar diverses maneres d'escollir quines *stopwords* volem eliminar en les piuldades per a que no formin part dels vectors de característiques.\n",
    "+ Avaluar quin conjunt d'*stopwords* retorna una precisió major per a N=40. \n",
    "+ Un cop tinguem el vector d'*stopwords* amb millors resultats, el testejarem per a diferents $N$'s per a veure quina és el nombre de *stopwords* òptim.\n",
    "\n",
    "Feu una cerca a Intenet per trobar més estratègies i intenteu millorar l'*accuracy* que heu acosneguit fins ara.\n",
    "\n",
    "Amb això podeu arribar a precisions superiors al 80%."
   ]
  },
  {
   "cell_type": "markdown",
   "metadata": {},
   "source": [
    "> Per a aconseguir una millor precisió en les estimacions, vam agafar els stopwords de la llibreria nltk. A aquesta llista li vam afegir altres paraules comunes que apareixien a la llista de paraules més freqüents sense que tinguessin cap significat rellevant. En general, aquestes paraules no estaven incloses per defecte perquè eren abreviacions d'oracions freqüents o perquè eren versions de paraules ja incloses amb faltes d'ortografia."
   ]
  },
  {
   "cell_type": "markdown",
   "metadata": {},
   "source": [
    "> En un intent de millorar la precisió del classificador, en primer lloc definim una funció per trobar les paraules, per un valor donat de N, que apareguin a totes les categories. Eliminant-les assumim que la precisió millorarà (encara que no per totes les paraules és així). En segon lloc, implementem un algoritme de cross-validation per veure si podem trobar algun valor mitjà d' \"accuracy\" encara millor.\n",
    ">\n",
    "> Sigui com sigui, la millora no és molt significativa i els valors trobats sempre estan al voltant del 80%. Amb un millor anàlisi, paraula a paraula, de les paraules que més influeixen en la classificació, teòricament podriem obtemir encara millors resultats."
   ]
  },
  {
   "cell_type": "code",
   "execution_count": 487,
   "metadata": {},
   "outputs": [
    {
     "name": "stderr",
     "output_type": "stream",
     "text": [
      "[nltk_data] Downloading package stopwords to\n",
      "[nltk_data]     C:\\Users\\fparc\\AppData\\Roaming\\nltk_data...\n",
      "[nltk_data]   Package stopwords is already up-to-date!\n"
     ]
    }
   ],
   "source": [
    "import nltk\n",
    "from nltk.corpus import stopwords\n",
    "nltk.download('stopwords') # descarrega el corpus de stopwords\n",
    "stopwords = set(stopwords.words('english')) # crea un set amb les stopwords en anglès"
   ]
  },
  {
   "cell_type": "code",
   "execution_count": 488,
   "metadata": {},
   "outputs": [
    {
     "name": "stderr",
     "output_type": "stream",
     "text": [
      "[nltk_data] Downloading package stopwords to\n",
      "[nltk_data]     C:\\Users\\fparc\\AppData\\Roaming\\nltk_data...\n",
      "[nltk_data]   Package stopwords is already up-to-date!\n"
     ]
    }
   ],
   "source": [
    "N = 200 # Aquest parametre el podeu canviar i fer proves per avaluar quin és el millor valor.\n",
    "def find_good_stopwords(N,df,stopwords=stopwords):\n",
    "    \n",
    "    custom_stopwords = []\n",
    "    stop = False\n",
    "\n",
    "    while not stop:\n",
    "    \n",
    "        stopwords.update(custom_stopwords) # afegim les nostres stopwords al set\n",
    "        skip_top = stopwords # paraules que volem ignorar\n",
    "        top_words = topNwords(df, dicc_text, N, skip_top) # mostra les N paraules més representatives de cada categoria\n",
    "        word_in_n_categories = {}\n",
    "        for category, words in top_words.items():\n",
    "            for word in words:\n",
    "                if word in word_in_n_categories:\n",
    "                    word_in_n_categories[word] += 1\n",
    "                else:\n",
    "                    word_in_n_categories[word] = 1\n",
    "\n",
    "        word_in_n_categories = {k:v for k,v in word_in_n_categories.items() if v > 5} # elimina les paraules que només apareixen en una categoria\n",
    "\n",
    "        word_list = list(word_in_n_categories.keys())\n",
    "        if len(word_list) == 0:\n",
    "            stop = True\n",
    "        else:\n",
    "            #print(word_list)\n",
    "            custom_stopwords +=word_list\n",
    "    return custom_stopwords\n",
    "from nltk.corpus import stopwords\n",
    "nltk.download('stopwords') # descarrega el corpus de stopwords\n",
    "stopwords = set(stopwords.words('english')) # crea un set amb les stopwords en anglès\n",
    "stopwords_ = stopwords.copy()\n",
    "custom_stopwords = find_good_stopwords(N,df_tweets_train,stopwords=stopwords_)"
   ]
  },
  {
   "cell_type": "code",
   "execution_count": 489,
   "metadata": {},
   "outputs": [
    {
     "data": {
      "text/plain": [
       "['', 'girl', 'like', 'get', 'one']"
      ]
     },
     "execution_count": 489,
     "metadata": {},
     "output_type": "execute_result"
    }
   ],
   "source": [
    "custom_stopwords[:5]"
   ]
  },
  {
   "cell_type": "code",
   "execution_count": 490,
   "metadata": {},
   "outputs": [],
   "source": [
    "skip_top = stopwords # paraules que volem ignorar"
   ]
  },
  {
   "cell_type": "code",
   "execution_count": 491,
   "metadata": {},
   "outputs": [
    {
     "name": "stdout",
     "output_type": "stream",
     "text": [
      "Accuracy: 0.8023901876506971\n"
     ]
    }
   ],
   "source": [
    "words_topics = count_words_categories(df_tweets_train)\n",
    "top_words = topNwords(df_tweets_train, words_topics, N, skip_top)\n",
    "\n",
    "feat_train = create_features(df_tweets_train, top_words)\n",
    "feat_test = create_features(df_tweets_test, top_words)\n",
    "\n",
    "accuracy = naive_bayes(df_tweets_train, feat_train, feat_test, df_tweets_test)"
   ]
  },
  {
   "cell_type": "code",
   "execution_count": 493,
   "metadata": {},
   "outputs": [
    {
     "name": "stdout",
     "output_type": "stream",
     "text": [
      "Accuracy: 0.8020969855832241\n",
      "Accuracy: 0.8026212319790301\n",
      "Accuracy: 0.798689384010485\n",
      "Accuracy: 0.8020969855832241\n",
      "Accuracy: 0.8052424639580603\n",
      "Accuracy: 0.801310615989515\n",
      "Accuracy: 0.8060288335517694\n",
      "Accuracy: 0.8055045871559633\n",
      "Accuracy: 0.8128440366972477\n",
      "Accuracy: 0.8041939711664482\n",
      "Average Accuracy: 0.8040629095674967\n"
     ]
    }
   ],
   "source": [
    "#Implementem cross-validation\n",
    "import numpy as np\n",
    "\n",
    "num_folds = 10 # Nombre de folds\n",
    "indices = np.arange(len(df_tweets_train)) # Crea un array amb els índexos de les mostres\n",
    "\n",
    "np.random.shuffle(indices) # Barreja els índexos\n",
    "fold_size = len(indices) // num_folds # Mida de cada fold\n",
    "\n",
    "accuracy_scores = [] # Llista on guardarem els resultats de cada fold\n",
    "\n",
    "for fold in range(num_folds): # Per cada fold\n",
    "\n",
    "\n",
    "    val_indices = indices[fold * fold_size : (fold + 1) * fold_size] # Índexos de les mostres de validació\n",
    "    train_indices = np.concatenate([indices[:fold * fold_size], indices[(fold + 1) * fold_size:]])\n",
    "\n",
    "    train_data_fold, val_data_fold = df_tweets_train.iloc[train_indices], df_tweets_train.iloc[val_indices] # Dades de train i validació per aquest fold\n",
    "\n",
    "    # Comptem el nombre de paraules per categoria\n",
    "    words_topics_fold = count_words_categories(train_data_fold)\n",
    "    stopwords_ = stopwords.copy()\n",
    "    custom_stopwords = find_good_stopwords(N,train_data_fold,stopwords=stopwords_)\n",
    "    skip_top = stopwords_ # paraules que volem ignorar\n",
    "    top_words_fold = topNwords(train_data_fold, words_topics_fold, N, skip_top)\n",
    "\n",
    "    # Creem els vectors de característiques\n",
    "    feat_train_fold = create_features(train_data_fold, top_words_fold)\n",
    "    feat_val_fold = create_features(val_data_fold, top_words_fold)\n",
    "\n",
    "    # Entrenem el model i calculem l'accuracy\n",
    "    accuracy = naive_bayes(train_data_fold, feat_train_fold, feat_val_fold, val_data_fold)\n",
    "\n",
    "    accuracy_scores.append(accuracy)\n",
    "\n",
    "# Calculem l'accuracy mitjana\n",
    "average_accuracy = np.mean(accuracy_scores)\n",
    "print(\"Average Accuracy:\", average_accuracy)\n"
   ]
  },
  {
   "cell_type": "markdown",
   "metadata": {},
   "source": [
    "> Els valors que obtenim sempre estan al voltant de 0.8"
   ]
  }
 ],
 "metadata": {
  "kernelspec": {
   "display_name": "Python 3 (ipykernel)",
   "language": "python",
   "name": "python3"
  },
  "language_info": {
   "codemirror_mode": {
    "name": "ipython",
    "version": 3
   },
   "file_extension": ".py",
   "mimetype": "text/x-python",
   "name": "python",
   "nbconvert_exporter": "python",
   "pygments_lexer": "ipython3",
   "version": "3.11.6"
  }
 },
 "nbformat": 4,
 "nbformat_minor": 4
}
